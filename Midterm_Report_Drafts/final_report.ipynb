{
 "cells": [
  {
   "cell_type": "markdown",
   "id": "01df4991",
   "metadata": {},
   "source": [
    "<h1><center>Final Report</center></h1>"
   ]
  },
  {
   "cell_type": "markdown",
   "id": "c35451f8",
   "metadata": {},
   "source": [
    "# 1. Introduction"
   ]
  },
  {
   "cell_type": "markdown",
   "id": "03e5c66c",
   "metadata": {},
   "source": [
    "Predicting stock prices is a notoriously difficult task, due to high levels of randomness and noise in data. However, for a mid-sized hedge fund with \\$230M in assets, just a small improvement in stock predictions can lead to a large absolute increase in annual revenues. \n",
    "\n",
    "Over a multi-year period, the capriciousness of market sentiment that drives price changes in the short term gives way to the more predictable effects of a company's intrinsic value. Much of this value is reflected in a company's financial indicators, such as revenue, cash flows and tax liabilities. \n",
    "\n",
    "However, the challenge lies in deciding which financial indicators are most useful in driving future stock returns. By analyzing numerous financial indicators for listed US companies over 5 years, we aim to answer the question&mdash;how can we use a company's financial indicators to determine if a stock is worth buying? \n",
    "\n",
    "Notably, the financial indicators we examine are derived from a company's SEC 10-K filings, which are free and publicly available. Hence, our data analysis can potentially increase a hedge fund's revenue over multiple years, without any added cost. "
   ]
  }
 ],
 "metadata": {
  "kernelspec": {
   "display_name": "Python 3",
   "language": "python",
   "name": "python3"
  },
  "language_info": {
   "codemirror_mode": {
    "name": "ipython",
    "version": 3
   },
   "file_extension": ".py",
   "mimetype": "text/x-python",
   "name": "python",
   "nbconvert_exporter": "python",
   "pygments_lexer": "ipython3",
   "version": "3.7.6"
  }
 },
 "nbformat": 4,
 "nbformat_minor": 5
}
